{
 "cells": [
  {
   "cell_type": "code",
   "execution_count": 1,
   "metadata": {},
   "outputs": [],
   "source": [
    "#Setup for receiving other modules\n",
    "import sys;\n",
    "\n",
    "mathematics_source_path=\"/home/mkr/mathematics/\"\n",
    "sys.path.insert(0, mathematics_source_path + 'source')\n",
    "sys.path = list(set(sys.path))"
   ]
  },
  {
   "cell_type": "code",
   "execution_count": 4,
   "metadata": {},
   "outputs": [
    {
     "name": "stdout",
     "output_type": "stream",
     "text": [
      "Expected 0.5 - Estimated: 0.5000437806663749\n",
      "Expected 1.58612 - Estimated: 1.5864614777860664\n"
     ]
    }
   ],
   "source": [
    "import montecarlo.estimator as monte\n",
    "import random\n",
    "import math\n",
    "\n",
    "# Case 1\n",
    "def f(x):\n",
    "    return x\n",
    "\n",
    "def P(domainStart, domainEnd):\n",
    "    return random.random() * (domainEnd - domainStart) + domainStart;\n",
    "\n",
    "estimator = monte.Estimator(lambda : f(P(0,1)), 0, 1, 1000000)\n",
    "print(\"Expected 0.5 - Estimated:\", estimator.integrate())\n",
    "\n",
    "#Case 2\n",
    "def f(x):\n",
    "    return math.cos(x)+math.pow(math.sin(6*x), 4)\n",
    "\n",
    "estimator = monte.Estimator(lambda : f(P(0,1.5)), 0, 1.5, 1000000)\n",
    "print(\"Expected 1.58612 - Estimated:\", estimator.integrate())"
   ]
  },
  {
   "cell_type": "code",
   "execution_count": 7,
   "metadata": {},
   "outputs": [
    {
     "name": "stdout",
     "output_type": "stream",
     "text": [
      "Expected 1.5 - Estimated: 1.5\n"
     ]
    }
   ],
   "source": [
    "# Case 3\n",
    "def f(x):\n",
    "    return 3 * x\n",
    "\n",
    "def pdf(x):\n",
    "    return 2 * x\n",
    "\n",
    "# P is hand calculated from CDF inversion: 2x =integral=> x^2 =Eval(a,t)=> t^2 - a^2 =invert=> +/- sqrt(y + a^2)\n",
    "def P(domainStart, domainEnd):\n",
    "    xi = math.sqrt(random.random() + domainStart * domainStart)\n",
    "    return xi;\n",
    "\n",
    "def mcf():\n",
    "    xi=P(0,1)\n",
    "    return f(xi)/pdf(xi)\n",
    "\n",
    "estimator = monte.Estimator(mcf, 0, 1, 1000000)\n",
    "print(\"Expected 1.5 - Estimated:\", estimator.integrate())"
   ]
  }
 ],
 "metadata": {
  "kernelspec": {
   "display_name": "Python 3",
   "language": "python",
   "name": "python3"
  },
  "language_info": {
   "codemirror_mode": {
    "name": "ipython",
    "version": 3
   },
   "file_extension": ".py",
   "mimetype": "text/x-python",
   "name": "python",
   "nbconvert_exporter": "python",
   "pygments_lexer": "ipython3",
   "version": "3.7.3"
  }
 },
 "nbformat": 4,
 "nbformat_minor": 2
}
