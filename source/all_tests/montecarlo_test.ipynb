{
 "cells": [
  {
   "cell_type": "code",
   "execution_count": 1,
   "metadata": {
    "collapsed": false
   },
   "outputs": [],
   "source": [
    "#Setup for receiving other modules\n",
    "import sys;\n",
    "\n",
    "mathematics_source_path=\"/home/mkr/mathematics/\"\n",
    "sys.path.insert(0, mathematics_source_path + 'source')\n",
    "sys.path = list(set(sys.path))"
   ]
  },
  {
   "cell_type": "code",
   "execution_count": 4,
   "metadata": {
    "collapsed": false
   },
   "outputs": [
    {
     "name": "stdout",
     "output_type": "stream",
     "text": [
      "Expected 0.5 - Estimated: 0.5004851048965813\n"
     ]
    }
   ],
   "source": [
    "import montecarlo.estimator as monte\n",
    "import random\n",
    "\n",
    "def f(x):\n",
    "    return x\n",
    "\n",
    "def P(domainStart, domainEnd):\n",
    "    return random.random() * (domainEnd - domainStart) + domainStart;\n",
    "\n",
    "estimator = monte.Estimator(f, P, 0, 1, 1000000)\n",
    "print(\"Expected 0.5 - Estimated:\", estimator.integrate())"
   ]
  },
  {
   "cell_type": "code",
   "execution_count": null,
   "metadata": {
    "collapsed": true
   },
   "outputs": [],
   "source": []
  }
 ],
 "metadata": {
  "kernelspec": {
   "display_name": "Python 3",
   "language": "python",
   "name": "python3"
  },
  "language_info": {
   "codemirror_mode": {
    "name": "ipython",
    "version": 3
   },
   "file_extension": ".py",
   "mimetype": "text/x-python",
   "name": "python",
   "nbconvert_exporter": "python",
   "pygments_lexer": "ipython3",
   "version": "3.5.3"
  }
 },
 "nbformat": 4,
 "nbformat_minor": 2
}
